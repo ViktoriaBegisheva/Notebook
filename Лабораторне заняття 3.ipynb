{
 "cells": [
  {
   "cell_type": "markdown",
   "metadata": {
    "collapsed": true
   },
   "source": [
    "# Лабораторне заняття №3\n",
    "Дане лабораторне заняття буде присвячене вирішенню задач, вже розв'язаних на практичних заняттях, за допомогою засобів, вивчених на перших двох лабораторних заняттях.\n",
    "\n",
    "Будемо використовувати *Збірник задач з теорії ймовірностей та математичної статистики: навч. посібник / В.В. Голомозий, М.В. Карташов, К.В. Ральченко. – К.: Видавничо-поліграфічний центр «Київський університет», 2015. – 366 с.*\n",
    "Електронну версію збірника можна знайти [тут](http://probability.univ.kiev.ua/userfiles/kmv/gkr-problems.pdf)."
   ]
  },
  {
   "cell_type": "markdown",
   "metadata": {},
   "source": [
    "## 1 Задача 1.3.6\n",
    "Знайти ймовiрнiсть того, що серед $k$ цифр, кожна з яких вибрана навмання (вибiрка з поверненням):\n",
    "1. не входить $0$;\n",
    "2. не входить $1$;\n",
    "3. не входить нi $0$, нi $1$;\n",
    "4. не входить або $0$, або $1$.\n",
    "\n",
    "Напишіть відповідні функції для обрахунку теоретичної (повним перебором) та еміричної (симулюванням $100000$ експериментів) імовірностей в залежності від параметра $k$.\n",
    "Виведіть результат для\n",
    "- $k = 5$;\n",
    "- $k = 7$."
   ]
  },
  {
   "cell_type": "code",
   "execution_count": 1,
   "metadata": {},
   "outputs": [],
   "source": [
    "# Місце для Вашого коду\n",
    "from itertools import product\n",
    "import numpy as np\n",
    "\n",
    "def probs(k, n_simul=100000):\n",
    "    print('k = {}'.format(k))\n",
    "    p1 = 0\n",
    "    p2 = 0\n",
    "    p3 = 0\n",
    "    p4 = 0\n",
    "    p_all = 0\n",
    "    for x in product(range(10), repeat=k):\n",
    "        p1 += int(0 not in x)\n",
    "        p2 += int(1 not in x)\n",
    "        p3 += int(0 not in x and 1 not in x)\n",
    "        p4 += int(0 not in x or 1 not in x)\n",
    "        p_all += 1\n",
    "    print('Theoretical probability\\n 1 : {}\\n 2 : {}\\n 3 : {}\\n 4 : {}'.format(p1/p_all,p2/p_all,p3/p_all,p4/p_all))\n",
    "    p1 = 0\n",
    "    p2 = 0\n",
    "    p3 = 0\n",
    "    p4 = 0\n",
    "    for _ in range(n_simul):\n",
    "        x = np.random.randint(10, size=k)\n",
    "        p1 += int(0 not in x)\n",
    "        p2 += int(1 not in x)\n",
    "        p3 += int(0 not in x and 1 not in x)\n",
    "        p4 += int(0 not in x or 1 not in x)\n",
    "    print('Empirical probability\\n 1 : {}\\n 2 : {}\\n 3 : {}\\n 4 : {}'.format(p1/n_simul,p2/n_simul,p3/n_simul,p4/n_simul))\n",
    "    print('='*100)"
   ]
  },
  {
   "cell_type": "code",
   "execution_count": 3,
   "metadata": {},
   "outputs": [
    {
     "name": "stdout",
     "output_type": "stream",
     "text": [
      "k = 5\n",
      "Theoretical probability\n",
      " 1 : 0.59049\n",
      " 2 : 0.59049\n",
      " 3 : 0.32768\n",
      " 4 : 0.8533\n",
      "Empirical probability\n",
      " 1 : 0.59204\n",
      " 2 : 0.58705\n",
      " 3 : 0.32766\n",
      " 4 : 0.85143\n",
      "====================================================================================================\n",
      "k = 7\n",
      "Theoretical probability\n",
      " 1 : 0.4782969\n",
      " 2 : 0.4782969\n",
      " 3 : 0.2097152\n",
      " 4 : 0.7468786\n",
      "Empirical probability\n",
      " 1 : 0.48042\n",
      " 2 : 0.47418\n",
      " 3 : 0.20985\n",
      " 4 : 0.74475\n",
      "====================================================================================================\n"
     ]
    }
   ],
   "source": [
    "params = [5,7]\n",
    "\n",
    "for k in params:\n",
    "    probs(k)"
   ]
  },
  {
   "cell_type": "markdown",
   "metadata": {},
   "source": [
    "## 2 Задача 1.3.20\n",
    "Гральний кубик пiдкидають шiсть разiв.\n",
    "Знайти ймовiрнiсть того, що:\n",
    "1. випадуть всi шiсть граней;\n",
    "2. випадуть хоча б двi однаковi гранi;\n",
    "3. випадуть тiльки три рiзнi гранi.\n",
    "\n",
    "Обчисліть теоретичну (повним перебором) та емпіричну (симулюванням $100000$ експериментів) імовірності."
   ]
  },
  {
   "cell_type": "code",
   "execution_count": 14,
   "metadata": {
    "collapsed": true
   },
   "outputs": [],
   "source": [
    "# Місце для Вашого коду\n",
    "from itertools import product\n",
    "import numpy as np\n",
    "\n",
    "def probs(k=6, n_simul=100000):\n",
    "    # print('k = {}'.format(k))\n",
    "    p1 = 0\n",
    "    p2 = 0\n",
    "    p3 = 0\n",
    "    p_all = 0\n",
    "    for x in product(range(1,7), repeat=k):\n",
    "        p1 += len(set(x)) == 6\n",
    "        p2 += len(set(x)) < 6\n",
    "        p3 += len(set(x)) == 3\n",
    "        p_all += 1\n",
    "    print('Theoretical probability\\n 1 : {}\\n 2 : {}\\n 3 : {}'.format(p1/p_all,p2/p_all,p3/p_all))\n",
    "    p1 = 0\n",
    "    p2 = 0\n",
    "    p3 = 0\n",
    "    for _ in range(n_simul):\n",
    "        x = np.random.randint(1,7, size=k)\n",
    "        p1 += len(set(x)) == 6\n",
    "        p2 += len(set(x)) < 6\n",
    "        p3 += len(set(x)) == 3\n",
    "    print('Empirical probability\\n 1 : {}\\n 2 : {}\\n 3 : {}'.format(p1/n_simul,p2/n_simul,p3/n_simul))\n",
    "    print('='*100)"
   ]
  },
  {
   "cell_type": "code",
   "execution_count": 15,
   "metadata": {},
   "outputs": [
    {
     "name": "stdout",
     "output_type": "stream",
     "text": [
      "Theoretical probability\n",
      " 1 : 0.015432098765432098\n",
      " 2 : 0.9845679012345679\n",
      " 3 : 0.23148148148148148\n",
      "Empirical probability\n",
      " 1 : 0.01532\n",
      " 2 : 0.98468\n",
      " 3 : 0.23268\n",
      "====================================================================================================\n"
     ]
    }
   ],
   "source": [
    "probs()"
   ]
  },
  {
   "cell_type": "markdown",
   "metadata": {},
   "source": [
    "## 3 Задача 1.4.7\n",
    "В класi $35$ учнiв: $20$ дiвчаток та $15$ хлопчикiв.\n",
    "Вирiшено за допомогою жеребу розподiлити серед учнiв чотири квитки в театр.\n",
    "Яка ймовiрнiсть, що квитки отримають:\n",
    "1. чотири дiвчинки;\n",
    "2. два хлопчики та двi дiвчинки?\n",
    "\n",
    "Обчисліть теоретичну (повним перебором) та еміричну (симулюванням $100000$ експериментів) імовірності."
   ]
  },
  {
   "cell_type": "code",
   "execution_count": 17,
   "metadata": {},
   "outputs": [],
   "source": [
    "# Місце для Вашого коду\n",
    "from itertools import permutations\n",
    "import numpy as np\n",
    "\n",
    "def probs(male=15, female=20, k=4, n_simul=100000):\n",
    "    print('male = {}, female = {}'.format(male, female))\n",
    "    students = np.append(np.zeros(female), np.ones(male)).flatten()\n",
    "    p1 = 0\n",
    "    p2 = 0\n",
    "    p_all = 0\n",
    "    for x in permutations(students, k):\n",
    "        x = np.array(x)\n",
    "        p1 += sum(x==0)==4\n",
    "        p2 += (sum(x==0)==2 and sum(x==1)==2)\n",
    "        p_all += 1\n",
    "    print(p_all)\n",
    "    print('Theoretical probability\\n 1 : {}\\n 2 : {}'.format(p1/p_all,p2/p_all))\n",
    "    p1 = 0\n",
    "    p2 = 0\n",
    "    for _ in range(n_simul):\n",
    "        x = np.random.choice(students, size=k, replace=False)\n",
    "        p1 += sum(x==0)==4\n",
    "        p2 += (sum(x==0)==2 and sum(x==1)==2)\n",
    "    print('Empirical probability\\n 1 : {}\\n 2 : {}'.format(p1/n_simul,p2/n_simul))\n",
    "    print('='*100)"
   ]
  },
  {
   "cell_type": "code",
   "execution_count": 18,
   "metadata": {},
   "outputs": [
    {
     "name": "stdout",
     "output_type": "stream",
     "text": [
      "male = 15, female = 20\n",
      "1256640\n",
      "Theoretical probability\n",
      " 1 : 0.09253246753246754\n",
      " 2 : 0.3810160427807487\n",
      "Empirical probability\n",
      " 1 : 0.09128\n",
      " 2 : 0.3841\n",
      "====================================================================================================\n"
     ]
    }
   ],
   "source": [
    "probs()"
   ]
  },
  {
   "cell_type": "markdown",
   "metadata": {},
   "source": [
    "## 4 Задача 1.4.8\n",
    "В урнi мiститься двi бiлих та чотири чорних кулi.\n",
    "З урни одну за одною виймають всi кулi.\n",
    "Знайти ймовiрнiсть того, що вийнята останньою куля буде бiлою.\n",
    "\n",
    "Обчисліть теоретичну (повним перебором) та еміричну (симулюванням $100000$ експериментів) імовірності."
   ]
  },
  {
   "cell_type": "code",
   "execution_count": 15,
   "metadata": {},
   "outputs": [],
   "source": [
    "# Місце для Вашого коду\n",
    "from itertools import permutations\n",
    "import numpy as np\n",
    "\n",
    "def probs(black=4, white=2, n_simul=100000):\n",
    "    print('black = {}, white = {}'.format(black, white))\n",
    "    k=black+white\n",
    "    balls = np.append(np.zeros(white), np.ones(black)).flatten()\n",
    "    p1 = 0\n",
    "    p_all = 0\n",
    "    for x in permutations(balls):\n",
    "        x = np.array(x)\n",
    "        p1 += x[-1]==0\n",
    "        p_all += 1\n",
    "    print('Theoretical probability : {}'.format(p1/p_all))\n",
    "    p1 = 0\n",
    "    for _ in range(n_simul):\n",
    "        x = np.random.choice(balls, size=k, replace=False)\n",
    "        p1 += x[-1]==0\n",
    "    print('Empirical probability : {}'.format(p1/n_simul))\n",
    "    print('='*100)"
   ]
  },
  {
   "cell_type": "code",
   "execution_count": 16,
   "metadata": {},
   "outputs": [
    {
     "name": "stdout",
     "output_type": "stream",
     "text": [
      "black = 4, white = 2\n",
      "Theoretical probability : 0.3333333333333333\n",
      "Empirical probability : 0.33045\n",
      "====================================================================================================\n"
     ]
    }
   ],
   "source": [
    "probs()"
   ]
  },
  {
   "cell_type": "markdown",
   "metadata": {},
   "source": [
    "## 5 Задача 1.4.15\n",
    "Колода з $52$ гральних карт ретельно тасується, пiсля чого одна за одною вiдкриваються верхнi карти до появи першого туза.\n",
    "Яка ймовiрнiсть того, що:\n",
    "1. першим тузом виявиться п’ята карта;\n",
    "2. першим тузом виявиться $k$-а карта;\n",
    "3. перший туз зустрiнеться не пiзнiше $k$-ої карти?\n",
    "\n",
    "Напишіть функцію для обрахунку еміричної (симулюванням $100000$ експериментів) імовірності в залежності від параметра $k$.\n",
    "Виведіть результат (пункти $2.$ та $3.$) для\n",
    "- $k = 5$;\n",
    "- $k = 8$;\n",
    "- $k = 10$."
   ]
  },
  {
   "cell_type": "code",
   "execution_count": 5,
   "metadata": {},
   "outputs": [],
   "source": [
    "# Місце для Вашого коду\n",
    "# Визначимо номінали, масті та карти\n",
    "Ranks = {'1', '2', '3', '4', '5', '6', '7', '8', '9', '10', 'J', 'Q', 'K'}\n",
    "Suits = {'♢', '♠', '♣', '♡'}\n",
    "# Створимо колоду карт\n",
    "Cards = [(Rank, Suit) for Rank in Ranks for Suit in Suits]\n",
    "\n",
    "def probs(k = 5, n_simul = 100000):\n",
    "    print(\"k = {}\".format(k))\n",
    "    p1 = 0\n",
    "    p2 = 0\n",
    "    p_all = 0\n",
    "    for _ in range(n_simul):\n",
    "        np.random.shuffle(Cards)\n",
    "        ranks = np.array([el[0] for el in Cards])\n",
    "        res_ind = np.where(ranks=='1')\n",
    "        first_ace = res_ind[0][0]\n",
    "        p1 += first_ace==k\n",
    "        p2 += first_ace<=k\n",
    "        p_all += 1\n",
    "    print('Empirical probability\\n 2 : {}\\n 3 : {}'.format(p1/n_simul,p2/n_simul))\n",
    "    print('='*100)"
   ]
  },
  {
   "cell_type": "code",
   "execution_count": 6,
   "metadata": {},
   "outputs": [],
   "source": [
    "ranks = np.array([el[0] for el in Cards])\n",
    "res_ind = np.where(ranks=='1')"
   ]
  },
  {
   "cell_type": "code",
   "execution_count": 11,
   "metadata": {},
   "outputs": [
    {
     "data": {
      "text/plain": [
       "24"
      ]
     },
     "execution_count": 11,
     "metadata": {},
     "output_type": "execute_result"
    }
   ],
   "source": [
    "res_ind[0][0]"
   ]
  },
  {
   "cell_type": "code",
   "execution_count": 60,
   "metadata": {},
   "outputs": [
    {
     "name": "stdout",
     "output_type": "stream",
     "text": [
      "k = 5\n",
      "Empirical probability\n",
      " 2 : 0.05537\n",
      " 3 : 0.39807\n",
      "====================================================================================================\n",
      "k = 8\n",
      "Empirical probability\n",
      " 2 : 0.04637\n",
      " 3 : 0.54471\n",
      "====================================================================================================\n",
      "k = 10\n",
      "Empirical probability\n",
      " 2 : 0.03895\n",
      " 3 : 0.62395\n",
      "====================================================================================================\n"
     ]
    }
   ],
   "source": [
    "params = [5,8,10]\n",
    "\n",
    "for k in params:\n",
    "    probs(k)"
   ]
  },
  {
   "cell_type": "code",
   "execution_count": null,
   "metadata": {},
   "outputs": [],
   "source": []
  }
 ],
 "metadata": {
  "kernelspec": {
   "display_name": "Python 3",
   "language": "python",
   "name": "python3"
  },
  "language_info": {
   "codemirror_mode": {
    "name": "ipython",
    "version": 3
   },
   "file_extension": ".py",
   "mimetype": "text/x-python",
   "name": "python",
   "nbconvert_exporter": "python",
   "pygments_lexer": "ipython3",
   "version": "3.7.1"
  }
 },
 "nbformat": 4,
 "nbformat_minor": 1
}
