{
 "cells": [
  {
   "cell_type": "markdown",
   "metadata": {},
   "source": [
    "# Домашня робота №3\n",
    "Будемо використовувати *Збірник задач з теорії ймовірностей та математичної статистики: навч. посібник / В.В. Голомозий, М.В. Карташов, К.В. Ральченко. – К.: Видавничо-поліграфічний центр «Київський університет», 2015. – 366 с.*\n",
    "Електронну версію збірника можна знайти [тут](http://probability.univ.kiev.ua/userfiles/kmv/gkr-problems.pdf)."
   ]
  },
  {
   "cell_type": "markdown",
   "metadata": {},
   "source": [
    "## 1 Задача 1.3.12\n",
    "Знайти ймовiрнiсть того, що серед трьох цифр, кожна з яких вибрана навмання, буде лише 1, 2, 3 рiзних.\n",
    "\n",
    "Обчисліть теоретичну (повним перебором) та еміричну (симулюванням $100000$ експериментів) імовірності."
   ]
  },
  {
   "cell_type": "code",
   "execution_count": 1,
   "metadata": {},
   "outputs": [
    {
     "name": "stdout",
     "output_type": "stream",
     "text": [
      "Theoretical probability\n",
      " 1: 0.01\n",
      " 2: 0.27\n",
      " 3: 0.72\n",
      "\n",
      "Empirical probability\n",
      " 1: 0.00981\n",
      " 2: 0.26786\n",
      " 3: 0.72233\n",
      "\n"
     ]
    }
   ],
   "source": [
    "# Місце для Вашого коду\n",
    "from itertools import product\n",
    "import numpy as np\n",
    "\n",
    "\n",
    "def probs(n_simul=100000):\n",
    "    p1 = 0\n",
    "    p2 = 0\n",
    "    p3 = 0\n",
    "    p_all = 0\n",
    "    for x in product(range(10), repeat=3):\n",
    "        p1 += len(set(x)) == 1\n",
    "        p2 += len(set(x)) == 2\n",
    "        p3 += len(set(x)) == 3\n",
    "        p_all += 1\n",
    "    print('Theoretical probability\\n 1: {}\\n 2: {}\\n 3: {}\\n'.format(p1 / p_all, p2 / p_all, p3 / p_all))\n",
    "    p1 = 0\n",
    "    p2 = 0\n",
    "    p3 = 0\n",
    "    for _ in range(n_simul):\n",
    "        x = np.random.randint(10, size=3)\n",
    "        p1 += len(set(x)) == 1\n",
    "        p2 += len(set(x)) == 2\n",
    "        p3 += len(set(x)) == 3\n",
    "    print('Empirical probability\\n 1: {}\\n 2: {}\\n 3: {}\\n'.format(p1 / n_simul, p2 / n_simul, p3 / n_simul))\n",
    "\n",
    "\n",
    "probs()"
   ]
  },
  {
   "cell_type": "markdown",
   "metadata": {},
   "source": [
    "# 2 Задача 1.3.14\n",
    "З послiдовностi чисел $1, 2, . . . , n$ вибирають навмання $k$ рiзних чисел.\n",
    "Яка ймовiрнiсть того, що:\n",
    "1. кожне з вибраних чисел кратне даному числу $p$;\n",
    "2. кожне з вибраних чисел кратне хоча б одному з двох взаємно простих чисел $p$ i $q$;\n",
    "3. серед вибраних чисел є хоча б одне кратне $p$?\n",
    "\n",
    "Напишіть  відповідні функції для обрахунку теоретичної (повним перебором) та еміричної (симулюванням $100000$ експериментів) імовірностей в залежності від параметрів $n, k, p, q$.\n",
    "Виведіть результат для\n",
    "- $n = 25, k = 5, p = 3, q = 4$;\n",
    "- $n = 25, k = 10, p = 3, q = 4$."
   ]
  },
  {
   "cell_type": "code",
   "execution_count": 4,
   "metadata": {},
   "outputs": [
    {
     "name": "stdout",
     "output_type": "stream",
     "text": [
      "Theoretical probability\n",
      " 1: 0.001054018445322793\n",
      " 2: 0.014906832298136646\n",
      " 3: 0.8835309617918313\n",
      "\n",
      "Empirical probability\n",
      " 1: 0.00099\n",
      " 2: 0.0149\n",
      " 3: 0.88326\n",
      "\n",
      "==================================================\n",
      "Theoretical probability\n",
      " 1: 0.0\n",
      " 2: 2.0191142818683536e-05\n",
      " 3: 0.9940503432494279\n",
      "\n",
      "Empirical probability\n",
      " 1: 0.0\n",
      " 2: 2e-05\n",
      " 3: 0.99419\n",
      "\n"
     ]
    }
   ],
   "source": [
    "# Місце для Вашого коду\n",
    "from itertools import combinations\n",
    "import numpy as np\n",
    "\n",
    "\n",
    "def probs(n, k, p, q, n_simul=100000):\n",
    "    p1 = 0\n",
    "    p2 = 0\n",
    "    p3 = 0\n",
    "    p_all = 0\n",
    "    for x in combinations(range(1, n + 1), k):\n",
    "        count1 = 0\n",
    "        count2 = 0\n",
    "        count3 = 0\n",
    "        for number in x:\n",
    "            count1 += int(number % p == 0)\n",
    "            count2 += int(number % p == 0 or number % q == 0)\n",
    "            count3 += int(number % p == 0)\n",
    "        p1 += int(count1 == len(x))\n",
    "        p2 += int(count2 == len(x))\n",
    "        p3 += int(count3 >= 1)\n",
    "        p_all += 1\n",
    "    print('Theoretical probability\\n 1: {}\\n 2: {}\\n 3: {}\\n'.format(p1 / p_all, p2 / p_all, p3 / p_all))\n",
    "    p1 = 0\n",
    "    p2 = 0\n",
    "    p3 = 0\n",
    "    for _ in range(n_simul):\n",
    "        x = np.random.choice(range(1, n+1), size=k, replace=False)\n",
    "        count1 = 0\n",
    "        count2 = 0\n",
    "        count3 = 0\n",
    "        for number in x:\n",
    "            count1 += int(number % p == 0)\n",
    "            count2 += int(number % p == 0 or number % q == 0)\n",
    "            count3 += int(number % p == 0)\n",
    "        p1 += int(count1 == len(x))\n",
    "        p2 += int(count2 == len(x))\n",
    "        p3 += int(count3 >= 1)\n",
    "    print('Empirical probability\\n 1: {}\\n 2: {}\\n 3: {}\\n'.format(p1 / n_simul, p2 / n_simul, p3 / n_simul))\n",
    "\n",
    "\n",
    "probs(25, 5, 3, 4)\n",
    "print('=' * 50)\n",
    "probs(25, 10, 3, 4)"
   ]
  },
  {
   "cell_type": "markdown",
   "metadata": {},
   "source": [
    "# 3 Задача 1.4.6\n",
    "В коморi знаходяться $n$ пар черевикiв.\n",
    "З них випадковим чином вибираються $2k$ черевикiв.\n",
    "Яка ймовiрнiсть того, що серед вибраних черевикiв:\n",
    "1. вiдсутнi парнi;\n",
    "2. є рiвно одна комплектна пара;\n",
    "3. є двi комплектнi пари?\n",
    "\n",
    "Напишіть  відповідні функції для обрахунку теоретичної (повним перебором) та еміричної (симулюванням $100000$ експериментів) імовірностей в залежності від параметрів $n, k$.\n",
    "Виведіть результат для\n",
    "- $n = 8, k = 4$;\n",
    "- $n = 13, k = 5$."
   ]
  },
  {
   "cell_type": "code",
   "execution_count": 3,
   "metadata": {},
   "outputs": [
    {
     "name": "stdout",
     "output_type": "stream",
     "text": [
      "Theoretical probability\n",
      " 1: 0.01989121989121989\n",
      " 2: 0.2784770784770785\n",
      " 3: 0.5221445221445221\n",
      "\n",
      "Empirical probability\n",
      " 1: 0.01953\n",
      " 2: 0.27835\n",
      " 3: 0.52339\n",
      "\n",
      "==================================================\n",
      "Theoretical probability\n",
      " 1: 0.05513528065688518\n",
      " 2: 0.31013595369497915\n",
      " 3: 0.4341903351729708\n",
      "\n",
      "Empirical probability\n",
      " 1: 0.05598\n",
      " 2: 0.30898\n",
      " 3: 0.43417\n",
      "\n"
     ]
    }
   ],
   "source": [
    "# Місце для Вашого коду\n",
    "from itertools import combinations\n",
    "import numpy as np\n",
    "\n",
    "\n",
    "def probs(n, k, n_simul=100000):\n",
    "    p1 = 0\n",
    "    p2 = 0\n",
    "    p3 = 0\n",
    "    p_all = 0\n",
    "    arrn = list(range(n)) + list(range(n))\n",
    "    for x in combinations(arrn, 2*k):\n",
    "        p1 += len(set(x)) == len(x)\n",
    "        p2 += len(set(x)) + 1 == len(x)\n",
    "        p3 += len(set(x)) + 2 == len(x)\n",
    "        p_all += 1\n",
    "    print('Theoretical probability\\n 1: {}\\n 2: {}\\n 3: {}\\n'.format(p1 / p_all, p2 / p_all, p3 / p_all))\n",
    "    p1 = 0\n",
    "    p2 = 0\n",
    "    p3 = 0\n",
    "    for _ in range(n_simul):\n",
    "        x = np.random.choice(arrn, 2*k, replace=False)\n",
    "        p1 += len(set(x)) == len(x)\n",
    "        p2 += len(set(x)) + 1 == len(x)\n",
    "        p3 += len(set(x)) + 2 == len(x)\n",
    "    print('Empirical probability\\n 1: {}\\n 2: {}\\n 3: {}\\n'.format(p1 / n_simul, p2 / n_simul, p3 / n_simul))\n",
    "\n",
    "\n",
    "probs(8, 4)\n",
    "print('=' * 50)\n",
    "probs(13, 5)"
   ]
  },
  {
   "cell_type": "markdown",
   "metadata": {},
   "source": [
    "# 4 Задача 1.2.15\n",
    "Нехай $\\Omega = {1, 2, \\ldots, 2n}$.\n",
    "Всiм числам приписанi ймовiрностi, пропорцiйнi логарифмам цих чисел.\n",
    "Знайти цi ймовiрностi.\n",
    "Знайти ймовiрнiсть того, що в результатi експерименту з’явиться:\n",
    "1. парне число;\n",
    "2. непарне число.\n",
    "\n",
    "Напишіть функцію для обрахунку еміричної (симулюванням $100000$ експериментів) імовірності в залежності від параметра $n$.\n",
    "Виведіть результат для\n",
    "- $n = 10$;\n",
    "- $n = 25$."
   ]
  },
  {
   "cell_type": "code",
   "execution_count": 6,
   "metadata": {},
   "outputs": [
    {
     "name": "stdout",
     "output_type": "stream",
     "text": [
      "Empirical probability\n",
      "n = 10\n",
      " 1) 0.4991\n",
      " 2) 0.5009\n",
      "n = 25\n",
      " 1) 0.49928\n",
      " 2) 0.50072\n"
     ]
    }
   ],
   "source": [
    "# Місце для Вашого коду\n",
    "import math\n",
    "import numpy as np\n",
    "\n",
    "params = [10, 25]\n",
    "n_simul = 100000\n",
    "print('Empirical probability')\n",
    "for n in params:\n",
    "    p1 = 0\n",
    "    p2 = 0\n",
    "    g = list(range(1, 2 * n + 1))\n",
    "    h = []\n",
    "    for i in range(len(g)):\n",
    "        h.append(math.log(g[i]))\n",
    "    for j in range(n_simul):\n",
    "        a = np.random.choice(g, 1)\n",
    "        if a % 2 == 0:\n",
    "            p1 += 1\n",
    "        else:\n",
    "            p2 += 1\n",
    "    print('n = {}\\n 1) {}\\n 2) {}'.format(n, p1 / n_simul, p2 / n_simul))"
   ]
  }
 ],
 "metadata": {
  "kernelspec": {
   "display_name": "Python 3 (ipykernel)",
   "language": "python",
   "name": "python3"
  },
  "language_info": {
   "codemirror_mode": {
    "name": "ipython",
    "version": 3
   },
   "file_extension": ".py",
   "mimetype": "text/x-python",
   "name": "python",
   "nbconvert_exporter": "python",
   "pygments_lexer": "ipython3",
   "version": "3.8.5"
  }
 },
 "nbformat": 4,
 "nbformat_minor": 1
}
